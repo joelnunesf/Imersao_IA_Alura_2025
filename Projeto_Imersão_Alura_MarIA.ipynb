{
  "nbformat": 4,
  "nbformat_minor": 0,
  "metadata": {
    "colab": {
      "provenance": []
    },
    "kernelspec": {
      "name": "python3",
      "display_name": "Python 3"
    },
    "language_info": {
      "name": "python"
    }
  },
  "cells": [
    {
      "cell_type": "code",
      "source": [
        "# @title Apresentação (MarIA - Monitoramento Arterial Residencial com Inteligencia Artificial)\n",
        "\n",
        "# Título Principal: MarIA: Monitoramento Arterial Residencial com Inteligencia Artificial (Gemini AI)\n",
        "\n",
        "# ALUNO = JOEL NUNES FERREIRA\n",
        "# E-MAIL = JOELNUNESF@GMAIL.COM\n",
        "\n",
        "#   O case para o projero MarIA (Monitoramento Arterial Residencial por Inteligência Artificial) nasceu da observação da rotina de Lívia,\n",
        "#   minha esposa, durante a gravidez de nossa filha Maria.\n",
        "#   Diante da necessidade de monitorar a pressão arterial três vezes ao dia, conforme orientação médica devido a fatores de risco,\n",
        "#   surgiu a ideia de otimizar o processo manual de anotação e envio semanal dos dados ao cardiologista.\n",
        "#   Este case para a Imersão IA 3ª edição da Alura explora o desenvolvimento de um sistema em Python no Colab que, utilizando a Gemini AI,\n",
        "#   analisa fotos do monitor de pressão, extrai as medições e automatiza a criação de registros para o Google Calendário com os dados das imagens\n",
        "#   correspondentes e a classificação da aferição, observações sobre os dados coletados e dicas. O objetivo final não é em hipotese alguma substituir o acompanhamento médico,\n",
        "#   é uma ideia de como a IA pode nos ajudar com um envio de dados analiticos para os profissionais.\n",
        "#   Mais dinâmico, assertivo e automatizado, aplicando os conhecimentos adquiridos no curso, incluindo a criação de um chatbot\n",
        "#   para interação e agentes para a execução das tarefas."
      ],
      "metadata": {
        "id": "nx5o363Ny7Q-"
      },
      "execution_count": null,
      "outputs": []
    },
    {
      "cell_type": "code",
      "execution_count": null,
      "metadata": {
        "colab": {
          "base_uri": "https://localhost:8080/"
        },
        "id": "jNvx4VTm0hu6",
        "outputId": "6f69c66f-0748-488a-9c7b-ed2e12a9b467"
      },
      "outputs": [
        {
          "output_type": "stream",
          "name": "stdout",
          "text": [
            "Bibliotecas (IA do Google e Imagem) instaladas e importadas com sucesso!\n"
          ]
        }
      ],
      "source": [
        "# @title Célula 1: Configuração e Instalação das bibliotecas necessárias (IA do Google e Imagem).\n",
        "!pip install -q google-generativeai Pillow\n",
        "\n",
        "# --- Importações ---\n",
        "\n",
        "# Importa a biblioteca de IA do Google.\n",
        "import google.generativeai as genai\n",
        "# Importa a classe para manipular imagens.\n",
        "from PIL import Image\n",
        "# Importa utilitários para lidar com I/O (dados em memória, etc.).\n",
        "import io\n",
        "# Importa funcionalidades para interagir com o sistema operacional.\n",
        "import os\n",
        "\n",
        "# Imprime uma mensagem de sucesso.\n",
        "print(\"Bibliotecas (IA do Google e Imagem) instaladas e importadas com sucesso!\")"
      ]
    },
    {
      "cell_type": "code",
      "source": [
        "# @title Célula 2: Configurar a Chave de API do Gemini\n",
        "\n",
        "# ATENÇÃO: Nunca exponha sua chave de API diretamente no código!\n",
        "# No Google Colab, é mais seguro usar o recurso \"Secrets\" ou solicitar a chave.\n",
        "\n",
        "# Opção 1 (Recomendado para uso pessoal no Colab): Usar Secrets\n",
        "# Vá em \"Ferramentas\" -> \"Segredos\" no menu lateral do Colab.\n",
        "# Adicione um novo segredo com o nome \"GEMINI_API_KEY\" e o valor da sua chave de API.\n",
        "# Então, descomente a linha abaixo:\n",
        "#import os\n",
        "\n",
        "from google.colab import userdata\n",
        "GOOGLE_API_KEY = userdata.get('GOOGLE_API_KEY')\n",
        "\n",
        "# Opção 2 (Para este exemplo, solicita a chave durante a execução):\n",
        "#GOOGLE_API_KEY = input(\"Por favor, insira sua chave de API do Gemini: \")\n",
        "\n",
        "#if not GOOGLE_API_KEY:\n",
        "#    raise ValueError(\"A chave de API do Gemini não foi fornecida. Por favor, insira-a.\")\n",
        "\n",
        "genai.configure(api_key=GOOGLE_API_KEY)\n",
        "model = genai.GenerativeModel('gemini-1.5-flash')\n",
        "\n",
        "print(\"Chave de API configurada e modelo Gemini carregado!\")\n",
        "\n",
        "# Configura a API Key do Google Gemini\n",
        "\n",
        "\n"
      ],
      "metadata": {
        "colab": {
          "base_uri": "https://localhost:8080/"
        },
        "id": "F10wlp1l1CpY",
        "outputId": "73ee6229-4613-473f-cca8-9aea30a960eb"
      },
      "execution_count": null,
      "outputs": [
        {
          "output_type": "stream",
          "name": "stdout",
          "text": [
            "Chave de API configurada e modelo Gemini carregado!\n"
          ]
        }
      ]
    },
    {
      "cell_type": "code",
      "source": [
        "# @title Célula 3: Função para Analisar a Imagem\n",
        "\n",
        "def analisar_pressao(imagem_bytes):\n",
        "    \"\"\"\n",
        "    Envia a imagem para a Gemini Vision API e extrai os dados da pressão arterial.\n",
        "\n",
        "    Args:\n",
        "        imagem_bytes: Bytes da imagem (lida de um arquivo uploaded).\n",
        "\n",
        "    Returns:\n",
        "        String com os resultados da análise ou uma mensagem de erro.\n",
        "    Vars:\n",
        "        sexo: String representando o sexo do paciente (ex: \"Masculino\", \"Feminino\").\n",
        "        idade: Inteiro representando a idade do paciente.\n",
        "        peso: Float representando o peso do paciente em kg.\n",
        "        situacao: String descrevendo a situação do paciente (ex: \"gestante\", \"obeso\", \"internado\", \"nenhuma\").\n",
        "    \"\"\"\n",
        "    sexo=\"Feminino\"\n",
        "    idade=43\n",
        "    peso=96\n",
        "    situacao=\"gestante\"\n",
        "    try:\n",
        "        # Abre a imagem a partir dos bytes\n",
        "        imagem = Image.open(io.BytesIO(imagem_bytes))\n",
        "\n",
        "        # Prompt para guiar o modelo Gemini\n",
        "\n",
        "        prompt = (f\"\"\"\n",
        "                  Análise de medição de pressão arterial para um paciente com as seguintes características:\n",
        "                  Sexo: {sexo}, Idade: {idade} anos, Peso: {peso} kg, Situação: {situacao}.\n",
        "\n",
        "                  Extraia os valores numéricos da pressão sistólica (maior número), pressão diastólica (menor número) e frequência cardíaca (pulso ou bpm) presentes nesta imagem.\n",
        "                  A hora esta no canto superior esquerdo e a data está abaixo da hora no formato MM/DD e transforme para DD/MM\n",
        "                  Acrescente uma coluna com a classificação diagnóstica da hipertensão arterial (adultos com mais de 18 anos de idade) conforme o departamento de hipertensão arterial nesse site http://departamentos.cardiol.br/dha/consenso3/capitulo1.asp\n",
        "                  Formate a resposta EXATAMENTE como: Sexo: {sexo}, Idade: {idade}, Peso: {peso}, Situação: {situacao}, Sistólica: [valor], Diastólica: [valor], Frequência Cardíaca: [valor] bpm. Data: [data], Hora: [hora], Classificação [valor].\n",
        "                  Se algum dado não for encontrado, indique 'Não encontrado'.\n",
        "                  \"\"\")\n",
        "\n",
        "        response = model.generate_content([imagem, prompt])\n",
        "        return response.text\n",
        "    except Exception as e:\n",
        "        return f\"Erro ao analisar a imagem com a API do Gemini: {e}\"\n",
        "\n",
        "print(\"Função 'analisar_pressao' definida.\")"
      ],
      "metadata": {
        "colab": {
          "base_uri": "https://localhost:8080/"
        },
        "id": "CZPCwgzE1UZo",
        "outputId": "5c795f7c-0dd1-4a05-e15f-1678af9cdff6"
      },
      "execution_count": null,
      "outputs": [
        {
          "output_type": "stream",
          "name": "stdout",
          "text": [
            "Função 'analisar_pressao' definida.\n"
          ]
        }
      ]
    },
    {
      "cell_type": "code",
      "source": [
        "# @title Célula 4: Upload das Fotos e Processamento\n",
        "\n",
        "from google.colab import files\n",
        "\n",
        "print(\"Por favor, faça o upload de uma ou mais fotos do seu aparelho de pressão.\")\n",
        "uploaded = files.upload()\n",
        "\n",
        "if not uploaded:\n",
        "    print(\"Nenhuma foto foi carregada. Por favor, tente novamente.\")\n",
        "else:\n",
        "    print(f\"\\n{len(uploaded)} foto(s) carregada(s). Processando...\")\n",
        "    resultados_analise = {}\n",
        "\n",
        "    # Crie uma lista vazia para armazenar os resultados\n",
        "    vetor_resultados = []\n",
        "\n",
        "    for nome_arquivo, conteudo_arquivo in uploaded.items():\n",
        "        print(f\"\\n--- Processando: {nome_arquivo} ---\")\n",
        "        # O conteúdo_arquivo já está em bytes, pronto para a função de análise\n",
        "        resultado = analisar_pressao(conteudo_arquivo)\n",
        "        resultados_analise[nome_arquivo] = resultado\n",
        "        print(f\"Resultado da análise para '{nome_arquivo}':\")\n",
        "        print(resultado)\n",
        "        print(\"-\" * 30)\n",
        "        # Armazene o resultado no vetor\n",
        "        vetor_resultados.append(resultado)\n",
        "\n",
        "    print(\"\\n--- Resumo de todas as análises ---\")\n",
        "    for nome_arquivo, resultado in resultados_analise.items():\n",
        "        print(f\"Arquivo: {nome_arquivo}\")\n",
        "        print(f\"Análise: {resultado}\")\n",
        "        print(\"---\")\n",
        "\n",
        "    # Aqui você pode adicionar o código para a etapa de anotação\n",
        "    # e envio dos dados (e-mail, Google Sheets, etc.).\n",
        "    print(\"\\nEtapa de análise concluída. Agora você pode adicionar anotações e enviar os dados.\")"
      ],
      "metadata": {
        "colab": {
          "base_uri": "https://localhost:8080/",
          "height": 1000
        },
        "id": "3Tfj6adK1rcZ",
        "outputId": "d0f83ed8-b016-4940-dfd9-e9870d1a6223"
      },
      "execution_count": null,
      "outputs": [
        {
          "output_type": "stream",
          "name": "stdout",
          "text": [
            "Por favor, faça o upload de uma ou mais fotos do seu aparelho de pressão.\n"
          ]
        },
        {
          "output_type": "display_data",
          "data": {
            "text/plain": [
              "<IPython.core.display.HTML object>"
            ],
            "text/html": [
              "\n",
              "     <input type=\"file\" id=\"files-e2b9b9cc-39ba-44a2-88de-1044a9db06c2\" name=\"files[]\" multiple disabled\n",
              "        style=\"border:none\" />\n",
              "     <output id=\"result-e2b9b9cc-39ba-44a2-88de-1044a9db06c2\">\n",
              "      Upload widget is only available when the cell has been executed in the\n",
              "      current browser session. Please rerun this cell to enable.\n",
              "      </output>\n",
              "      <script>// Copyright 2017 Google LLC\n",
              "//\n",
              "// Licensed under the Apache License, Version 2.0 (the \"License\");\n",
              "// you may not use this file except in compliance with the License.\n",
              "// You may obtain a copy of the License at\n",
              "//\n",
              "//      http://www.apache.org/licenses/LICENSE-2.0\n",
              "//\n",
              "// Unless required by applicable law or agreed to in writing, software\n",
              "// distributed under the License is distributed on an \"AS IS\" BASIS,\n",
              "// WITHOUT WARRANTIES OR CONDITIONS OF ANY KIND, either express or implied.\n",
              "// See the License for the specific language governing permissions and\n",
              "// limitations under the License.\n",
              "\n",
              "/**\n",
              " * @fileoverview Helpers for google.colab Python module.\n",
              " */\n",
              "(function(scope) {\n",
              "function span(text, styleAttributes = {}) {\n",
              "  const element = document.createElement('span');\n",
              "  element.textContent = text;\n",
              "  for (const key of Object.keys(styleAttributes)) {\n",
              "    element.style[key] = styleAttributes[key];\n",
              "  }\n",
              "  return element;\n",
              "}\n",
              "\n",
              "// Max number of bytes which will be uploaded at a time.\n",
              "const MAX_PAYLOAD_SIZE = 100 * 1024;\n",
              "\n",
              "function _uploadFiles(inputId, outputId) {\n",
              "  const steps = uploadFilesStep(inputId, outputId);\n",
              "  const outputElement = document.getElementById(outputId);\n",
              "  // Cache steps on the outputElement to make it available for the next call\n",
              "  // to uploadFilesContinue from Python.\n",
              "  outputElement.steps = steps;\n",
              "\n",
              "  return _uploadFilesContinue(outputId);\n",
              "}\n",
              "\n",
              "// This is roughly an async generator (not supported in the browser yet),\n",
              "// where there are multiple asynchronous steps and the Python side is going\n",
              "// to poll for completion of each step.\n",
              "// This uses a Promise to block the python side on completion of each step,\n",
              "// then passes the result of the previous step as the input to the next step.\n",
              "function _uploadFilesContinue(outputId) {\n",
              "  const outputElement = document.getElementById(outputId);\n",
              "  const steps = outputElement.steps;\n",
              "\n",
              "  const next = steps.next(outputElement.lastPromiseValue);\n",
              "  return Promise.resolve(next.value.promise).then((value) => {\n",
              "    // Cache the last promise value to make it available to the next\n",
              "    // step of the generator.\n",
              "    outputElement.lastPromiseValue = value;\n",
              "    return next.value.response;\n",
              "  });\n",
              "}\n",
              "\n",
              "/**\n",
              " * Generator function which is called between each async step of the upload\n",
              " * process.\n",
              " * @param {string} inputId Element ID of the input file picker element.\n",
              " * @param {string} outputId Element ID of the output display.\n",
              " * @return {!Iterable<!Object>} Iterable of next steps.\n",
              " */\n",
              "function* uploadFilesStep(inputId, outputId) {\n",
              "  const inputElement = document.getElementById(inputId);\n",
              "  inputElement.disabled = false;\n",
              "\n",
              "  const outputElement = document.getElementById(outputId);\n",
              "  outputElement.innerHTML = '';\n",
              "\n",
              "  const pickedPromise = new Promise((resolve) => {\n",
              "    inputElement.addEventListener('change', (e) => {\n",
              "      resolve(e.target.files);\n",
              "    });\n",
              "  });\n",
              "\n",
              "  const cancel = document.createElement('button');\n",
              "  inputElement.parentElement.appendChild(cancel);\n",
              "  cancel.textContent = 'Cancel upload';\n",
              "  const cancelPromise = new Promise((resolve) => {\n",
              "    cancel.onclick = () => {\n",
              "      resolve(null);\n",
              "    };\n",
              "  });\n",
              "\n",
              "  // Wait for the user to pick the files.\n",
              "  const files = yield {\n",
              "    promise: Promise.race([pickedPromise, cancelPromise]),\n",
              "    response: {\n",
              "      action: 'starting',\n",
              "    }\n",
              "  };\n",
              "\n",
              "  cancel.remove();\n",
              "\n",
              "  // Disable the input element since further picks are not allowed.\n",
              "  inputElement.disabled = true;\n",
              "\n",
              "  if (!files) {\n",
              "    return {\n",
              "      response: {\n",
              "        action: 'complete',\n",
              "      }\n",
              "    };\n",
              "  }\n",
              "\n",
              "  for (const file of files) {\n",
              "    const li = document.createElement('li');\n",
              "    li.append(span(file.name, {fontWeight: 'bold'}));\n",
              "    li.append(span(\n",
              "        `(${file.type || 'n/a'}) - ${file.size} bytes, ` +\n",
              "        `last modified: ${\n",
              "            file.lastModifiedDate ? file.lastModifiedDate.toLocaleDateString() :\n",
              "                                    'n/a'} - `));\n",
              "    const percent = span('0% done');\n",
              "    li.appendChild(percent);\n",
              "\n",
              "    outputElement.appendChild(li);\n",
              "\n",
              "    const fileDataPromise = new Promise((resolve) => {\n",
              "      const reader = new FileReader();\n",
              "      reader.onload = (e) => {\n",
              "        resolve(e.target.result);\n",
              "      };\n",
              "      reader.readAsArrayBuffer(file);\n",
              "    });\n",
              "    // Wait for the data to be ready.\n",
              "    let fileData = yield {\n",
              "      promise: fileDataPromise,\n",
              "      response: {\n",
              "        action: 'continue',\n",
              "      }\n",
              "    };\n",
              "\n",
              "    // Use a chunked sending to avoid message size limits. See b/62115660.\n",
              "    let position = 0;\n",
              "    do {\n",
              "      const length = Math.min(fileData.byteLength - position, MAX_PAYLOAD_SIZE);\n",
              "      const chunk = new Uint8Array(fileData, position, length);\n",
              "      position += length;\n",
              "\n",
              "      const base64 = btoa(String.fromCharCode.apply(null, chunk));\n",
              "      yield {\n",
              "        response: {\n",
              "          action: 'append',\n",
              "          file: file.name,\n",
              "          data: base64,\n",
              "        },\n",
              "      };\n",
              "\n",
              "      let percentDone = fileData.byteLength === 0 ?\n",
              "          100 :\n",
              "          Math.round((position / fileData.byteLength) * 100);\n",
              "      percent.textContent = `${percentDone}% done`;\n",
              "\n",
              "    } while (position < fileData.byteLength);\n",
              "  }\n",
              "\n",
              "  // All done.\n",
              "  yield {\n",
              "    response: {\n",
              "      action: 'complete',\n",
              "    }\n",
              "  };\n",
              "}\n",
              "\n",
              "scope.google = scope.google || {};\n",
              "scope.google.colab = scope.google.colab || {};\n",
              "scope.google.colab._files = {\n",
              "  _uploadFiles,\n",
              "  _uploadFilesContinue,\n",
              "};\n",
              "})(self);\n",
              "</script> "
            ]
          },
          "metadata": {}
        },
        {
          "output_type": "stream",
          "name": "stdout",
          "text": [
            "Saving WhatsApp Image 2025-05-17 at 12.52.45 (1).jpeg to WhatsApp Image 2025-05-17 at 12.52.45 (1) (2).jpeg\n",
            "Saving WhatsApp Image 2025-05-17 at 12.52.45 (2).jpeg to WhatsApp Image 2025-05-17 at 12.52.45 (2) (1).jpeg\n",
            "Saving WhatsApp Image 2025-05-17 at 12.52.45 (3).jpeg to WhatsApp Image 2025-05-17 at 12.52.45 (3) (2).jpeg\n",
            "Saving WhatsApp Image 2025-05-17 at 12.52.45.jpeg to WhatsApp Image 2025-05-17 at 12.52.45 (5).jpeg\n",
            "Saving WhatsApp Image 2025-05-17 at 12.52.46 (1).jpeg to WhatsApp Image 2025-05-17 at 12.52.46 (1) (2).jpeg\n",
            "Saving WhatsApp Image 2025-05-17 at 12.52.46 (2).jpeg to WhatsApp Image 2025-05-17 at 12.52.46 (2) (3).jpeg\n",
            "\n",
            "6 foto(s) carregada(s). Processando...\n",
            "\n",
            "--- Processando: WhatsApp Image 2025-05-17 at 12.52.45 (1) (2).jpeg ---\n",
            "Resultado da análise para 'WhatsApp Image 2025-05-17 at 12.52.45 (1) (2).jpeg':\n",
            "Sexo: Feminino, Idade: 43, Peso: 96, Situação: gestante, Sistólica: 135, Diastólica: 78, Frequência Cardíaca: 64 bpm. Data: 26/04, Hora: 11:45, Classificação Hipertensão Estágio 1.\n",
            "------------------------------\n",
            "\n",
            "--- Processando: WhatsApp Image 2025-05-17 at 12.52.45 (2) (1).jpeg ---\n",
            "Resultado da análise para 'WhatsApp Image 2025-05-17 at 12.52.45 (2) (1).jpeg':\n",
            "Sexo: Feminino, Idade: 43, Peso: 96, Situação: gestante, Sistólica: 136, Diastólica: 85, Frequência Cardíaca: 73 bpm. Data: 04/26, Hora: 11:44, Classificação: Hipertensão Grau 1.\n",
            "------------------------------\n",
            "\n",
            "--- Processando: WhatsApp Image 2025-05-17 at 12.52.45 (3) (2).jpeg ---\n",
            "Resultado da análise para 'WhatsApp Image 2025-05-17 at 12.52.45 (3) (2).jpeg':\n",
            "Sexo: Feminino, Idade: 43, Peso: 96, Situação: gestante, Sistólica: 114, Diastólica: 74, Frequência Cardíaca: 82 bpm. Data: 26/04/2021, Hora: 9:19, Classificação Normal.\n",
            "------------------------------\n",
            "\n",
            "--- Processando: WhatsApp Image 2025-05-17 at 12.52.45 (5).jpeg ---\n",
            "Resultado da análise para 'WhatsApp Image 2025-05-17 at 12.52.45 (5).jpeg':\n",
            "Sexo: Feminino, Idade: 43, Peso: 96, Situação: gestante, Sistólica: 126, Diastólica: 73, Frequência Cardíaca: 78 bpm. Data: 26/04/2021, Hora: 07:21, Classificação Normal.\n",
            "------------------------------\n",
            "\n",
            "--- Processando: WhatsApp Image 2025-05-17 at 12.52.46 (1) (2).jpeg ---\n",
            "Resultado da análise para 'WhatsApp Image 2025-05-17 at 12.52.46 (1) (2).jpeg':\n",
            "Sexo: Não encontrado, Idade: Não encontrado, Peso: Não encontrado, Situação: Não encontrado, Sistólica: 120, Diastólica: 74, Frequência Cardíaca: 71 bpm. Data: 26/04/2021, Hora: 09:12, Classificação: Normal.\n",
            "------------------------------\n",
            "\n",
            "--- Processando: WhatsApp Image 2025-05-17 at 12.52.46 (2) (3).jpeg ---\n",
            "Resultado da análise para 'WhatsApp Image 2025-05-17 at 12.52.46 (2) (3).jpeg':\n",
            "Sexo: Feminino, Idade: 43, Peso: 96, Situação: gestante, Sistólica: 119, Diastólica: 75, Frequência Cardíaca: 75 bpm. Data: 26/04/2021, Hora: 21:10, Classificação: Hipertensão Grau 1.\n",
            "------------------------------\n",
            "\n",
            "--- Resumo de todas as análises ---\n",
            "Arquivo: WhatsApp Image 2025-05-17 at 12.52.45 (1) (2).jpeg\n",
            "Análise: Sexo: Feminino, Idade: 43, Peso: 96, Situação: gestante, Sistólica: 135, Diastólica: 78, Frequência Cardíaca: 64 bpm. Data: 26/04, Hora: 11:45, Classificação Hipertensão Estágio 1.\n",
            "---\n",
            "Arquivo: WhatsApp Image 2025-05-17 at 12.52.45 (2) (1).jpeg\n",
            "Análise: Sexo: Feminino, Idade: 43, Peso: 96, Situação: gestante, Sistólica: 136, Diastólica: 85, Frequência Cardíaca: 73 bpm. Data: 04/26, Hora: 11:44, Classificação: Hipertensão Grau 1.\n",
            "---\n",
            "Arquivo: WhatsApp Image 2025-05-17 at 12.52.45 (3) (2).jpeg\n",
            "Análise: Sexo: Feminino, Idade: 43, Peso: 96, Situação: gestante, Sistólica: 114, Diastólica: 74, Frequência Cardíaca: 82 bpm. Data: 26/04/2021, Hora: 9:19, Classificação Normal.\n",
            "---\n",
            "Arquivo: WhatsApp Image 2025-05-17 at 12.52.45 (5).jpeg\n",
            "Análise: Sexo: Feminino, Idade: 43, Peso: 96, Situação: gestante, Sistólica: 126, Diastólica: 73, Frequência Cardíaca: 78 bpm. Data: 26/04/2021, Hora: 07:21, Classificação Normal.\n",
            "---\n",
            "Arquivo: WhatsApp Image 2025-05-17 at 12.52.46 (1) (2).jpeg\n",
            "Análise: Sexo: Não encontrado, Idade: Não encontrado, Peso: Não encontrado, Situação: Não encontrado, Sistólica: 120, Diastólica: 74, Frequência Cardíaca: 71 bpm. Data: 26/04/2021, Hora: 09:12, Classificação: Normal.\n",
            "---\n",
            "Arquivo: WhatsApp Image 2025-05-17 at 12.52.46 (2) (3).jpeg\n",
            "Análise: Sexo: Feminino, Idade: 43, Peso: 96, Situação: gestante, Sistólica: 119, Diastólica: 75, Frequência Cardíaca: 75 bpm. Data: 26/04/2021, Hora: 21:10, Classificação: Hipertensão Grau 1.\n",
            "---\n",
            "\n",
            "Etapa de análise concluída. Agora você pode adicionar anotações e enviar os dados.\n",
            "Resultado 1:\n",
            "Sexo: Feminino, Idade: 43, Peso: 96, Situação: gestante, Sistólica: 135, Diastólica: 78, Frequência Cardíaca: 64 bpm. Data: 26/04, Hora: 11:45, Classificação Hipertensão Estágio 1.\n",
            "------------------------------\n",
            "Resultado 2:\n",
            "Sexo: Feminino, Idade: 43, Peso: 96, Situação: gestante, Sistólica: 136, Diastólica: 85, Frequência Cardíaca: 73 bpm. Data: 04/26, Hora: 11:44, Classificação: Hipertensão Grau 1.\n",
            "------------------------------\n",
            "Resultado 3:\n",
            "Sexo: Feminino, Idade: 43, Peso: 96, Situação: gestante, Sistólica: 114, Diastólica: 74, Frequência Cardíaca: 82 bpm. Data: 26/04/2021, Hora: 9:19, Classificação Normal.\n",
            "------------------------------\n",
            "Resultado 4:\n",
            "Sexo: Feminino, Idade: 43, Peso: 96, Situação: gestante, Sistólica: 126, Diastólica: 73, Frequência Cardíaca: 78 bpm. Data: 26/04/2021, Hora: 07:21, Classificação Normal.\n",
            "------------------------------\n",
            "Resultado 5:\n",
            "Sexo: Não encontrado, Idade: Não encontrado, Peso: Não encontrado, Situação: Não encontrado, Sistólica: 120, Diastólica: 74, Frequência Cardíaca: 71 bpm. Data: 26/04/2021, Hora: 09:12, Classificação: Normal.\n",
            "------------------------------\n",
            "Resultado 6:\n",
            "Sexo: Feminino, Idade: 43, Peso: 96, Situação: gestante, Sistólica: 119, Diastólica: 75, Frequência Cardíaca: 75 bpm. Data: 26/04/2021, Hora: 21:10, Classificação: Hipertensão Grau 1.\n",
            "------------------------------\n"
          ]
        }
      ]
    },
    {
      "cell_type": "code",
      "source": [
        "# @title Célula 5: Instalar Framework ADK de agentes do Google ################################################\n",
        "!pip install -q google-adk\n"
      ],
      "metadata": {
        "colab": {
          "base_uri": "https://localhost:8080/"
        },
        "id": "0yyMsnhb96rq",
        "outputId": "43a31f54-cbe5-4f77-f18d-2b05490ca346"
      },
      "execution_count": null,
      "outputs": [
        {
          "output_type": "stream",
          "name": "stdout",
          "text": [
            "\u001b[?25l   \u001b[90m━━━━━━━━━━━━━━━━━━━━━━━━━━━━━━━━━━━━━━━━\u001b[0m \u001b[32m0.0/1.2 MB\u001b[0m \u001b[31m?\u001b[0m eta \u001b[36m-:--:--\u001b[0m\r\u001b[2K   \u001b[90m━━━━━━━━━━━━━━━━━━━━━━━━━━━━━━━━━━━━━━━━\u001b[0m \u001b[32m1.2/1.2 MB\u001b[0m \u001b[31m52.7 MB/s\u001b[0m eta \u001b[36m0:00:00\u001b[0m\n",
            "\u001b[?25h\u001b[?25l   \u001b[90m━━━━━━━━━━━━━━━━━━━━━━━━━━━━━━━━━━━━━━━━\u001b[0m \u001b[32m0.0/232.1 kB\u001b[0m \u001b[31m?\u001b[0m eta \u001b[36m-:--:--\u001b[0m\r\u001b[2K   \u001b[90m━━━━━━━━━━━━━━━━━━━━━━━━━━━━━━━━━━━━━━━━\u001b[0m \u001b[32m232.1/232.1 kB\u001b[0m \u001b[31m19.3 MB/s\u001b[0m eta \u001b[36m0:00:00\u001b[0m\n",
            "\u001b[?25h\u001b[?25l   \u001b[90m━━━━━━━━━━━━━━━━━━━━━━━━━━━━━━━━━━━━━━━━\u001b[0m \u001b[32m0.0/95.2 kB\u001b[0m \u001b[31m?\u001b[0m eta \u001b[36m-:--:--\u001b[0m\r\u001b[2K   \u001b[90m━━━━━━━━━━━━━━━━━━━━━━━━━━━━━━━━━━━━━━━━\u001b[0m \u001b[32m95.2/95.2 kB\u001b[0m \u001b[31m8.1 MB/s\u001b[0m eta \u001b[36m0:00:00\u001b[0m\n",
            "\u001b[?25h\u001b[?25l   \u001b[90m━━━━━━━━━━━━━━━━━━━━━━━━━━━━━━━━━━━━━━━━\u001b[0m \u001b[32m0.0/217.1 kB\u001b[0m \u001b[31m?\u001b[0m eta \u001b[36m-:--:--\u001b[0m\r\u001b[2K   \u001b[90m━━━━━━━━━━━━━━━━━━━━━━━━━━━━━━━━━━━━━━━━\u001b[0m \u001b[32m217.1/217.1 kB\u001b[0m \u001b[31m18.1 MB/s\u001b[0m eta \u001b[36m0:00:00\u001b[0m\n",
            "\u001b[?25h\u001b[?25l   \u001b[90m━━━━━━━━━━━━━━━━━━━━━━━━━━━━━━━━━━━━━━━━\u001b[0m \u001b[32m0.0/334.1 kB\u001b[0m \u001b[31m?\u001b[0m eta \u001b[36m-:--:--\u001b[0m\r\u001b[2K   \u001b[90m━━━━━━━━━━━━━━━━━━━━━━━━━━━━━━━━━━━━━━━━\u001b[0m \u001b[32m334.1/334.1 kB\u001b[0m \u001b[31m27.2 MB/s\u001b[0m eta \u001b[36m0:00:00\u001b[0m\n",
            "\u001b[?25h\u001b[?25l   \u001b[90m━━━━━━━━━━━━━━━━━━━━━━━━━━━━━━━━━━━━━━━━\u001b[0m \u001b[32m0.0/125.1 kB\u001b[0m \u001b[31m?\u001b[0m eta \u001b[36m-:--:--\u001b[0m\r\u001b[2K   \u001b[90m━━━━━━━━━━━━━━━━━━━━━━━━━━━━━━━━━━━━━━━━\u001b[0m \u001b[32m125.1/125.1 kB\u001b[0m \u001b[31m9.8 MB/s\u001b[0m eta \u001b[36m0:00:00\u001b[0m\n",
            "\u001b[2K   \u001b[90m━━━━━━━━━━━━━━━━━━━━━━━━━━━━━━━━━━━━━━━━\u001b[0m \u001b[32m65.8/65.8 kB\u001b[0m \u001b[31m5.4 MB/s\u001b[0m eta \u001b[36m0:00:00\u001b[0m\n",
            "\u001b[2K   \u001b[90m━━━━━━━━━━━━━━━━━━━━━━━━━━━━━━━━━━━━━━━━\u001b[0m \u001b[32m119.0/119.0 kB\u001b[0m \u001b[31m9.4 MB/s\u001b[0m eta \u001b[36m0:00:00\u001b[0m\n",
            "\u001b[2K   \u001b[90m━━━━━━━━━━━━━━━━━━━━━━━━━━━━━━━━━━━━━━━━\u001b[0m \u001b[32m194.9/194.9 kB\u001b[0m \u001b[31m15.8 MB/s\u001b[0m eta \u001b[36m0:00:00\u001b[0m\n",
            "\u001b[2K   \u001b[90m━━━━━━━━━━━━━━━━━━━━━━━━━━━━━━━━━━━━━━━━\u001b[0m \u001b[32m62.5/62.5 kB\u001b[0m \u001b[31m5.4 MB/s\u001b[0m eta \u001b[36m0:00:00\u001b[0m\n",
            "\u001b[2K   \u001b[90m━━━━━━━━━━━━━━━━━━━━━━━━━━━━━━━━━━━━━━━━\u001b[0m \u001b[32m103.3/103.3 kB\u001b[0m \u001b[31m7.7 MB/s\u001b[0m eta \u001b[36m0:00:00\u001b[0m\n",
            "\u001b[2K   \u001b[90m━━━━━━━━━━━━━━━━━━━━━━━━━━━━━━━━━━━━━━━━\u001b[0m \u001b[32m44.4/44.4 kB\u001b[0m \u001b[31m3.1 MB/s\u001b[0m eta \u001b[36m0:00:00\u001b[0m\n",
            "\u001b[2K   \u001b[90m━━━━━━━━━━━━━━━━━━━━━━━━━━━━━━━━━━━━━━━━\u001b[0m \u001b[32m72.0/72.0 kB\u001b[0m \u001b[31m5.1 MB/s\u001b[0m eta \u001b[36m0:00:00\u001b[0m\n",
            "\u001b[?25h"
          ]
        }
      ]
    },
    {
      "cell_type": "code",
      "source": [
        "# @title Célula 6: Este código importa bibliotecas para criar um agente conversacional (Google ADK e GenAI)\n",
        "# Este código importa bibliotecas para criar um agente conversacional (Google ADK e GenAI),\n",
        "# incluindo ferramentas para busca no Google, gerenciamento de sessões, formatação de texto e requisições web.\n",
        "# Ele também suprime avisos do Python.\n",
        "\n",
        "from google.adk.agents import Agent\n",
        "from google.adk.runners import Runner\n",
        "from google.adk.sessions import InMemorySessionService\n",
        "from google.adk.tools import google_search\n",
        "from google.genai import types  # Para criar conteúdos (Content e Part)\n",
        "from datetime import date\n",
        "import textwrap # Para formatar melhor a saída de texto\n",
        "from IPython.display import display, Markdown # Para exibir texto formatado no Colab\n",
        "import requests # Para fazer requisições HTTP\n",
        "import warnings\n",
        "\n",
        "warnings.filterwarnings(\"ignore\")\n",
        "\n"
      ],
      "metadata": {
        "id": "qGLOeKoH-e0W"
      },
      "execution_count": null,
      "outputs": []
    },
    {
      "cell_type": "code",
      "source": [
        "# @title Célula 7: Função auxiliar que envia uma mensagem para um agente via Runner e retorna a resposta final\n",
        "def call_agent(agent: Agent, message_text: str) -> str:\n",
        "    # Cria um serviço de sessão em memória\n",
        "    session_service = InMemorySessionService()\n",
        "    # Cria uma nova sessão (você pode personalizar os IDs conforme necessário)\n",
        "    session = session_service.create_session(app_name=agent.name, user_id=\"user1\", session_id=\"session1\")\n",
        "    # Cria um Runner para o agente\n",
        "    runner = Runner(agent=agent, app_name=agent.name, session_service=session_service)\n",
        "    # Cria o conteúdo da mensagem de entrada\n",
        "    content = types.Content(role=\"user\", parts=[types.Part(text=message_text)])\n",
        "\n",
        "    final_response = \"\"\n",
        "    # Itera assincronamente pelos eventos retornados durante a execução do agente\n",
        "    for event in runner.run(user_id=\"user1\", session_id=\"session1\", new_message=content):\n",
        "        if event.is_final_response():\n",
        "          for part in event.content.parts:\n",
        "            if part.text is not None:\n",
        "              final_response += part.text\n",
        "              final_response += \"\\n\"\n",
        "    return final_response"
      ],
      "metadata": {
        "id": "Qxr1eejU_s6I"
      },
      "execution_count": null,
      "outputs": []
    },
    {
      "cell_type": "code",
      "source": [
        "# @title Célula 8: Função auxiliar para exibir texto formatado em Markdown no Colab\n",
        "def to_markdown(text):\n",
        "  text = text.replace('•', '  *')\n",
        "  return Markdown(textwrap.indent(text, '> ', predicate=lambda _: True))"
      ],
      "metadata": {
        "id": "C6gDWdp2_3ev"
      },
      "execution_count": null,
      "outputs": []
    },
    {
      "cell_type": "code",
      "source": [
        "# @title Célula 9: Agente_pesquisador #\n",
        "\n",
        "def agente_pesquisador(topico, data_de_hoje):\n",
        "  buscador = Agent(\n",
        "      name=\"agente_buscador\",\n",
        "      model=\"gemini-2.0-flash\",\n",
        "#      instruction=\"\"\"Você é um médico cardiologista. Seja mau humorado e direto ao ponto, sarcástico e papas na lingua.    #Minha esposa gostou dessa persona aqui...uhauhauhauh SINCERÃO!!!#\n",
        "#      instruction=\"\"\"Você é um médico cardiologista. Seja simpatico e explique o que está acontecendo para a mamãe como se ela fosse uma criança de 5 anos\n",
        "      instruction=\"\"\"Você é um médico cardiologista. Seja calmo e tranquilo, dentro da realidade, e aja com alegria nas respostas, encoraje o paciente em caso de resultados anormais e parabenize-o quando obtiver bons resultados.\n",
        "                    A sua tarefa é usar a ferramenta de busca do google (google_search) para recuperar artigos e notícias relevantes sobre o tópico abaixo.\n",
        "                    Foque em no máximo 5 dicas relevantes sobre cuidados que devemos ter quanto aos parâmetros das aferições Sistólica, Diastólica e Frequência Cardíaca.\n",
        "                    Com base no horário do parâmetro, sugira uma refeição para o momento\"\"\",\n",
        "      description=\"Agente que busca informações no Google\",\n",
        "      tools=[google_search]\n",
        "  )\n",
        "\n",
        "  entrada_do_agente_pesquisador = f\"Tópico: {topico}\\nData de hoje: {data_de_hoje}\"\n",
        "\n",
        "  lancamentos = call_agent(buscador, entrada_do_agente_pesquisador)\n",
        "\n",
        "  return lancamentos"
      ],
      "metadata": {
        "id": "mub7MjA6ABSl"
      },
      "execution_count": null,
      "outputs": []
    },
    {
      "cell_type": "code",
      "source": [
        "# @title Célula 10: Iniciando Utilização dos Agentes #\n",
        "data_de_hoje = date.today().strftime(\"%d/%m/%Y\")\n",
        "\n",
        "print(f\"Foram realizadas {i+1} aferições\\n\")\n",
        "\n",
        "# Crie um novo loop para imprimir os resultados do vetor carregado na célula 4\n",
        "for i, resultado_armazenado in enumerate(vetor_resultados):\n",
        "    print(f\"Começaremos as pesquisas sobre o resultado da aferição {i+1}:\")\n",
        "    print(resultado_armazenado)\n",
        "    topico=resultado_armazenado\n",
        "    lancamentos_buscados = agente_pesquisador(topico, data_de_hoje)\n",
        "    print(f\"\\n--- Resultado da aferição {i+1} pelo Agente Pesquisador ---\\n\")\n",
        "    display(to_markdown(lancamentos_buscados))\n",
        "    print(\"--------------------------------------------------------------\")"
      ],
      "metadata": {
        "id": "cDZhCHiPCN1-",
        "colab": {
          "base_uri": "https://localhost:8080/",
          "height": 1000
        },
        "outputId": "d5863c87-e798-4d9e-fe49-c976e60a94af"
      },
      "execution_count": null,
      "outputs": [
        {
          "output_type": "stream",
          "name": "stdout",
          "text": [
            "Foram realizadas 6 aferições\n",
            "\n",
            "Começaremos as pesquisas sobre o resultado da aferição 1:\n",
            "Sexo: Feminino, Idade: 43, Peso: 96, Situação: gestante, Sistólica: 135, Diastólica: 78, Frequência Cardíaca: 64 bpm. Data: 26/04, Hora: 11:45, Classificação Hipertensão Estágio 1.\n",
            "\n",
            "--- Resultado da aferição 1 pelo Agente Pesquisador ---\n",
            "\n"
          ]
        },
        {
          "output_type": "display_data",
          "data": {
            "text/plain": [
              "<IPython.core.display.Markdown object>"
            ],
            "text/markdown": "> Olá! Que alegria poder te ajudar nessa fase tão especial da sua vida! 🥰 Parabéns pela gravidez! Vamos conversar um pouquinho sobre as suas medidas e como podemos cuidar da sua saúde cardiovascular durante este período.\n> \n> Com base nas suas informações (26/04/2025, 11:45):\n> \n> *   **Sistólica:** 135 mmHg (Hipertensão Estágio 1)\n> *   **Diastólica:** 78 mmHg\n> *   **Frequência Cardíaca:** 64 bpm\n> \n> Considerando que você está grávida, é super importante monitorar a pressão arterial, pois a hipertensão na gravidez exige cuidados especiais. Mas, calma! Com o acompanhamento adequado, podemos garantir uma gestação tranquila e saudável para você e o bebê. 😊\n> \n> **5 Dicas de ouro para cuidar da sua pressão e frequência cardíaca:**\n> \n> 1.  **Acompanhamento médico:** O mais importante é seguir rigorosamente as orientações do seu obstetra e cardiologista. Eles são os melhores para te guiar neste momento. 😉\n> 2.  **Alimentação:** Já que são 11:45, que tal um almoço leve e nutritivo? Priorize alimentos frescos, como saladas coloridas, legumes cozidos e uma proteína magra (peixe grelhado, frango sem pele). Evite alimentos processados, ricos em sódio e gorduras saturadas. Uma dica extra: inclua alimentos ricos em potássio, como banana e abacate, que ajudam a controlar a pressão. 😋\n> 3.  **Atividade física:** Se o seu médico liberar, pratique atividades físicas leves e regulares, como caminhada ou yoga para gestantes. O exercício físico ajuda a controlar a pressão e melhora a circulação sanguínea. 🤸‍♀️\n> 4.  **Controle do peso:** Ganhar peso de forma saudável durante a gravidez é fundamental. Siga as orientações do seu médico e nutricionista para garantir que você e o bebê recebam os nutrientes necessários, sem comprometer a sua pressão arterial. 🤰\n> 5.  **Relaxamento:** O estresse pode elevar a pressão arterial. Encontre atividades que te relaxem e te tragam alegria, como ouvir música, ler um livro, meditar ou passar tempo com pessoas queridas. 🥰\n> \n> **Lembre-se:** Estas são apenas dicas gerais. Cada gravidez é única, e o seu médico é a pessoa mais indicada para te dar orientações personalizadas.\n> \n> Vamos juntas nessa jornada! Tenha confiança, siga as orientações médicas e aproveite cada momento da sua gravidez. Vai dar tudo certo! 💖\n> \n> Com certeza! Vamos detalhar um pouco mais essas dicas, com base nas informações mais recentes e confiáveis:\n> \n> 1.  **Acompanhamento médico:** É fundamental manter um diálogo aberto e frequente com seu obstetra e cardiologista. Eles poderão ajustar a sua medicação (se necessário), solicitar exames de acompanhamento e te orientar sobre os sinais de alerta que exigem atenção imediata. Lembre-se que a pré-eclâmpsia pode se desenvolver rapidamente, então o acompanhamento regular é crucial.\n> \n> 2.  **Alimentação:**\n>     *   **Priorize alimentos frescos e integrais:** Saladas coloridas, legumes cozidos, frutas (com moderação devido ao açúcar), grãos integrais e proteínas magras (peixes, frango sem pele, leguminosas) são ótimas opções.\n>     *   **Reduza o sódio:** Evite alimentos processados, enlatados, embutidos, molhos industrializados e temperos prontos. Cozinhe em casa e tempere com ervas naturais, alho, cebola e limão.\n>     *   **Aumente o potássio:** Banana, abacate, melão, tomate e batata doce são ricos em potássio, que ajuda a equilibrar os níveis de sódio no organismo.\n>     *   **Cálcio e proteína:** Leite e derivados desnatados (queijos brancos, iogurte natural) são importantes para a saúde óssea e muscular, além de auxiliarem no controle da pressão arterial.\n>     *   **Evite carne vermelha:** Prefira peixes e frango sem pele e sempre assados, cozidos ou grelhados\n>     *   **Sugestão de almoço:** Uma salada caprichada com folhas verdes, tomate, pepino, grãos integrais (quinoa ou arroz integral), frango grelhado em cubos e abacate. Tempere com azeite extra virgem, limão e ervas frescas. Para beber, água ou suco natural sem açúcar.\n> \n> 3.  **Atividade física:**\n>     *   **Exercícios leves e regulares:** Caminhada, yoga para gestantes, hidroginástica e pilates são ótimas opções.\n>     *   **Evite exercícios de alto impacto:** Musculação com cargas elevadas e esportes de contato devem ser evitados.\n>     *   **Consulte seu médico:** Peça a liberação do seu médico e procure um profissional de educação física especializado em gestantes para te orientar.\n> \n> 4.  **Controle do peso:**\n>     *   **Ganho de peso saudável:** Siga as orientações do seu médico e nutricionista para garantir um ganho de peso adequado para a sua idade gestacional e IMC inicial.\n>     *   **Evite dietas restritivas:** A gravidez não é o momento para fazer dietas radicais. Priorize uma alimentação equilibrada e nutritiva.\n> \n> 5.  **Relaxamento:**\n>     *   **Gerencie o estresse:** O estresse pode elevar a pressão arterial e prejudicar a saúde do bebê. Encontre atividades que te relaxem, como meditação, yoga, leitura, música ou passar tempo com pessoas queridas.\n>     *   **Busque apoio emocional:** Converse com seu parceiro, familiares e amigos sobre seus medos e angústias. Se necessário, procure ajuda de um psicólogo.\n> \n> **Outras dicas importantes:**\n> \n> *   **Durma bem:** Uma boa noite de sono (7-8 horas) é fundamental para controlar a pressão arterial e reduzir o estresse.\n> *   **Beba bastante água:** A hidratação adequada ajuda a manter o volume sanguíneo e a função renal, auxiliando no controle da pressão.\n> *   **Evite o álcool e o tabaco:** Essas substâncias são extremamente prejudiciais para a sua saúde e a do bebê.\n> *   **Suplementação:** Siga as orientações do seu médico sobre a suplementação de vitaminas e minerais, como cálcio, ferro e ácido fólico.\n> \n> Lembre-se que cada gravidez é única, e o seu médico é a pessoa mais indicada para te dar orientações personalizadas. Tenha confiança, siga as orientações médicas e aproveite cada momento da sua gravidez. Vai dar tudo certo! 💖\n> \n"
          },
          "metadata": {}
        },
        {
          "output_type": "stream",
          "name": "stdout",
          "text": [
            "--------------------------------------------------------------\n",
            "Começaremos as pesquisas sobre o resultado da aferição 2:\n",
            "Sexo: Feminino, Idade: 43, Peso: 96, Situação: gestante, Sistólica: 136, Diastólica: 85, Frequência Cardíaca: 73 bpm. Data: 04/26, Hora: 11:44, Classificação: Hipertensão Grau 1.\n",
            "\n",
            "--- Resultado da aferição 2 pelo Agente Pesquisador ---\n",
            "\n"
          ]
        },
        {
          "output_type": "display_data",
          "data": {
            "text/plain": [
              "<IPython.core.display.Markdown object>"
            ],
            "text/markdown": "> Olá! Vejo que você está grávida e mediu sua pressão e frequência cardíaca. Parabéns pela gravidez! É muito importante cuidarmos da saúde cardiovascular durante a gestação. Vamos analisar seus resultados com calma e alegria para garantir que tudo corra bem.\n> \n> Seus resultados de 26 de abril, às 11:44, mostram:\n> \n> *   **Sistólica:** 136 mmHg\n> *   **Diastólica:** 85 mmHg\n> *   **Frequência Cardíaca:** 73 bpm\n> \n> Com esses valores, a classificação é Hipertensão Grau 1. Mas não se preocupe! Vamos trabalhar juntos para controlar isso e garantir uma gravidez saudável.\n> \n> Considerando que agora são 11:44, sugiro que pensemos em um bom almoço para você!\n> \n> **Dicas e Cuidados:**\n> \n> Para ajudar a manter sua pressão arterial sob controle e garantir uma gestação saudável, aqui vão algumas dicas importantes e repletas de alegria:\n> \n> 1.  **Alimentação Saudável:** Priorize alimentos ricos em nutrientes e com baixo teor de sódio. Frutas, verduras, legumes, grãos integrais e proteínas magras são seus aliados! Para o almoço, que tal uma salada colorida com frango grelhado e quinoa? É delicioso e nutritivo!\n> 2.  **Atenção ao Sal:** Reduza o consumo de alimentos processados e evite adicionar sal extra às refeições. Explore temperos naturais como ervas e especiarias para dar sabor aos seus pratos!\n> 3.  **Hidratação:** Beba bastante água ao longo do dia. A hidratação adequada é essencial para a saúde cardiovascular e para o bom funcionamento do organismo.\n> 4.  **Exercícios Leves:** Pratique atividades físicas leves e regulares, como caminhadas, sempre com a aprovação do seu médico. O exercício ajuda a controlar a pressão arterial e melhora o humor!\n> 5.  **Relaxamento:** Encontre momentos para relaxar e reduzir o estresse. Meditação, yoga ou simplesmente ouvir música podem fazer maravilhas pelo seu bem-estar.\n> \n> Para confirmar as informações e ter mais detalhes sobre como controlar a pressão alta na gravidez, farei uma busca no Google. Assim, teremos ainda mais dicas para você!\n> \n> \n> Com base nas informações encontradas, aqui estão algumas dicas adicionais e um exemplo de almoço para você:\n> \n> **Dicas Adicionais:**\n> \n> *   **Repouso:** Tente descansar um pouco durante o dia. O repouso ajuda a reduzir a pressão arterial.\n> *   **Monitoramento:** Monitore sua pressão arterial regularmente e anote os resultados para compartilhar com seu médico.\n> *   **Acompanhamento Médico:** Mantenha todas as suas consultas de pré-natal e siga as orientações do seu obstetra e cardiologista.\n> \n> **Sugestão de Almoço:**\n> \n> *   **Salada:** Uma salada colorida com folhas verdes escuras (rúcula, espinafre), tomate, pepino e abacate.\n> *   **Proteína:** Frango grelhado ou peixe assado (salmão, tilápia).\n> *   **Carboidrato:** Quinoa ou batata doce cozida.\n> *   **Tempero:** Azeite extra virgem, limão e ervas frescas (salsinha, manjericão).\n> \n> **Lembre-se:**\n> \n> *   Evite alimentos processados, enlatados e com alto teor de sódio.\n> *   Beba água durante toda a refeição.\n> *   Coma devagar e aproveite o momento!\n> \n> Estou aqui para te ajudar em cada passo dessa jornada. Parabéns novamente pela gravidez, e vamos juntas garantir uma saúde radiante para você e seu bebê!\n"
          },
          "metadata": {}
        },
        {
          "output_type": "stream",
          "name": "stdout",
          "text": [
            "--------------------------------------------------------------\n",
            "Começaremos as pesquisas sobre o resultado da aferição 3:\n",
            "Sexo: Feminino, Idade: 43, Peso: 96, Situação: gestante, Sistólica: 114, Diastólica: 74, Frequência Cardíaca: 82 bpm. Data: 26/04/2021, Hora: 9:19, Classificação Normal.\n",
            "\n",
            "--- Resultado da aferição 3 pelo Agente Pesquisador ---\n",
            "\n"
          ]
        },
        {
          "output_type": "display_data",
          "data": {
            "text/plain": [
              "<IPython.core.display.Markdown object>"
            ],
            "text/markdown": "> Olá! Que alegria receber suas informações e poder te ajudar nesse momento tão especial que é a gestação! Seus resultados de 26/04/2021 estão ótimos, dentro da normalidade! Parabéns! A pressão de 114/74 mmHg e a frequência cardíaca de 82 bpm indicam que seu coração está trabalhando de forma eficiente.\n> \n> Para continuarmos com essa alegria e saúde, mesmo já tendo passado um tempo desde essa medição, aqui vão algumas dicas importantes, especialmente durante a gravidez:\n> \n> \n> 1.  **Acompanhamento Médico Regular:** O acompanhamento pré-natal é essencial! Mesmo que seus números estejam bons, é importante monitorar a pressão arterial e a frequência cardíaca regularmente com seu médico, pois a gravidez traz mudanças no corpo.\n> 2.  **Alimentação Saudável:** Uma dieta equilibrada é crucial para a saúde do coração e do bebê. Aumente o consumo de frutas, legumes, verduras e proteínas magras. Reduza a ingestão de sal, frituras, alimentos processados e açúcar.\n> 3.  **Hidratação Adequada:** Beba bastante água ao longo do dia, cerca de 2 a 3 litros, para manter o volume sanguíneo adequado e evitar a pressão alta.\n> 4.  **Exercícios Leves:** Se você já era ativa antes da gravidez e tem autorização médica, continue com exercícios leves como caminhada, ioga ou hidroginástica. Se não era, inicie com atividades leves e com orientação profissional. A Sociedade Canadense de Ginecologia e Obstetras recomenda algo entre 140 a 155 bpm como frequência máxima durante o exercício. O importante é ouvir o corpo e perceber se o ritmo está intenso demais.\n> 5.  **Controle do Estresse:** Encontre maneiras de relaxar e reduzir o estresse, como meditação, respiração profunda ou hobbies que você goste. O estresse pode afetar a pressão arterial e a frequência cardíaca.\n> \n> Considerando que são 9:19 da manhã, que tal um café da manhã nutritivo para começar bem o dia?\n> \n> *   **Sugestão de Refeição:** Uma tigela de iogurte natural com frutas frescas (como morangos, mirtilos e banana) e granola. O iogurte é rico em cálcio, importante para o desenvolvimento ósseo do bebê, e as frutas fornecem vitaminas e fibras. A granola adiciona um toque de energia para começar o dia!\n> \n> Lembre-se, cada gravidez é única, e o mais importante é seguir as orientações do seu médico e aproveitar cada momento dessa fase linda! Se cuide e continue radiante!\n"
          },
          "metadata": {}
        },
        {
          "output_type": "stream",
          "name": "stdout",
          "text": [
            "--------------------------------------------------------------\n",
            "Começaremos as pesquisas sobre o resultado da aferição 4:\n",
            "Sexo: Feminino, Idade: 43, Peso: 96, Situação: gestante, Sistólica: 126, Diastólica: 73, Frequência Cardíaca: 78 bpm. Data: 26/04/2021, Hora: 07:21, Classificação Normal.\n",
            "\n",
            "--- Resultado da aferição 4 pelo Agente Pesquisador ---\n",
            "\n"
          ]
        },
        {
          "output_type": "display_data",
          "data": {
            "text/plain": [
              "<IPython.core.display.Markdown object>"
            ],
            "text/markdown": "> Olá! Que alegria receber suas informações! 😊 Seus resultados de 26/04/2021 mostram uma pressão arterial de 126/73 mmHg e uma frequência cardíaca de 78 bpm, o que é ótimo e se enquadra na classificação normal, especialmente considerando sua situação de gestante. Parabéns! 🎉\n> \n> Para mantermos tudo sob controle e garantir uma gestação tranquila e saudável, aqui vão algumas dicas importantes, com foco especial em suas necessidades neste momento:\n> \n> 1.  **Acompanhamento Pré-Natal Rigoroso:** Como gestante, o acompanhamento médico é crucial. Siga todas as orientações do seu obstetra e cardiologista. As consultas regulares permitirão monitorar sua pressão arterial e frequência cardíaca de perto, ajustando qualquer necessidade ao longo da gravidez.\n> \n> 2.  **Alimentação Balanceada:** Uma dieta rica em nutrientes é fundamental! Priorize alimentos com baixo teor de sódio, como frutas, verduras e legumes frescos. Evite alimentos ultraprocessados e ricos em gorduras saturadas. Uma boa hidratação também é essencial!\n> \n> 3.  **Atividade Física Moderada:** Se você já pratica atividades físicas, continue! Caso contrário, converse com seu médico sobre a possibilidade de iniciar exercícios leves e seguros para gestantes, como caminhadas ou natação. A atividade física regular ajuda a manter a pressão arterial e a frequência cardíaca saudáveis.\n> \n> 4.  **Descanso Adequado:** O sono é um grande aliado! Tente dormir de 7 a 8 horas por noite. O descanso adequado ajuda a regular a pressão arterial e a frequência cardíaca, além de contribuir para o bem-estar geral.\n> \n> 5.  **Gerenciamento do Estresse:** A gravidez pode trazer momentos de ansiedade e estresse. Pratique técnicas de relaxamento, como meditação ou yoga, e busque apoio emocional em familiares e amigos. Controlar o estresse é importante para manter a pressão arterial e a frequência cardíaca estáveis.\n> \n> Considerando que suas medidas foram aferidas às 07:21 da manhã, uma ótima sugestão para o seu café da manhã seria algo leve e nutritivo. Que tal uma tigela de iogurte natural com frutas frescas e granola? Ou um smoothie de frutas com leite e aveia? 😋 Essas opções são deliciosas, saudáveis e te darão a energia necessária para começar o dia!\n> \n> Lembre-se, estou aqui para te apoiar em cada passo. Continue se cuidando e seguindo as orientações médicas. Tenho certeza de que você terá uma gestação maravilhosa e um bebê muito saudável! Se tiver mais alguma dúvida, pode me perguntar! 😊\n> \n> Ok, aqui estão as 5 dicas sobre cuidados que devemos ter quanto aos parâmetros das aferições Sistólica, Diastólica e Frequência Cardíaca durante a gravidez:\n> \n> 1.  **Acompanhamento Pré-Natal:** É essencial manter um acompanhamento pré-natal rigoroso para monitorar regularmente a pressão arterial e a frequência cardíaca, ajustando qualquer necessidade ao longo da gravidez.\n> 2.  **Alimentação Balanceada:** Priorize alimentos com baixo teor de sódio, como frutas, verduras e legumes frescos. Evite alimentos ultraprocessados e ricos em gorduras saturadas, além de manter uma boa hidratação. Uma dieta no estilo mediterrâneo pode diminuir as chances de desenvolvimento de pré-eclâmpsia. Prefira alimentos ricos em fibras ou que sejam integrais como cereais, leguminosas, hortaliças e frutas, de preferência com casca ou bagaço, no lugar de sucos.\n> 3.  **Atividade Física Moderada:** Pratique exercícios leves e seguros para gestantes, como caminhadas, ioga ou natação, sempre com a aprovação do seu médico. A atividade física regular ajuda a manter a pressão arterial e a frequência cardíaca saudáveis. A recomendação é de 150 minutos de exercícios aeróbicos de média intensidade distribuídos por pelo menos três dias.\n> 4.  **Descanso Adequado:** Tente dormir de 7 a 9 horas por noite. O sono adequado é crucial para regular a pressão arterial e a frequência cardíaca, além de contribuir para o bem-estar geral durante a gravidez.\n> 5.  **Gerenciamento do Estresse:** Pratique técnicas de relaxamento, como meditação ou yoga, e busque apoio emocional em familiares e amigos. Controlar o estresse é importante para manter a pressão arterial e a frequência cardíaca estáveis.\n> \n> Para o café da manhã às 07:21, sugiro uma tigela de iogurte natural com frutas frescas e granola, ou um smoothie de frutas com leite e aveia.\n> \n"
          },
          "metadata": {}
        },
        {
          "output_type": "stream",
          "name": "stdout",
          "text": [
            "--------------------------------------------------------------\n",
            "Começaremos as pesquisas sobre o resultado da aferição 5:\n",
            "Sexo: Não encontrado, Idade: Não encontrado, Peso: Não encontrado, Situação: Não encontrado, Sistólica: 120, Diastólica: 74, Frequência Cardíaca: 71 bpm. Data: 26/04/2021, Hora: 09:12, Classificação: Normal.\n",
            "\n",
            "--- Resultado da aferição 5 pelo Agente Pesquisador ---\n",
            "\n"
          ]
        },
        {
          "output_type": "display_data",
          "data": {
            "text/plain": [
              "<IPython.core.display.Markdown object>"
            ],
            "text/markdown": "> Olá! Que ótimas notícias! Seus níveis de pressão arterial (120/74 mmHg) e frequência cardíaca (71 bpm) estão dentro da faixa normal. Isso indica que seu sistema cardiovascular está funcionando bem. Continue com os bons hábitos!\n> \n> Como cardiologista, gostaria de te dar algumas dicas para manter esses ótimos resultados e promover a saúde do seu coração a longo prazo:\n> \n> 1.  **Mantenha uma dieta equilibrada:** Uma alimentação rica em frutas, vegetais, grãos integrais e proteínas magras é fundamental para a saúde cardiovascular. Evite alimentos processados, ricos em gorduras saturadas e sódio. Para este horário, sugiro um café da manhã nutritivo com frutas, iogurte natural e granola, que fornecem energia e nutrientes essenciais para começar o dia.\n> 2.  **Pratique atividade física regularmente:** A prática regular de exercícios físicos fortalece o coração, melhora a circulação sanguínea e ajuda a controlar o peso, a pressão arterial e o colesterol. Tente incorporar pelo menos 30 minutos de atividade física moderada na maioria dos dias da semana.\n> 3.  **Gerencie o estresse:** O estresse crônico pode elevar a pressão arterial e aumentar o risco de doenças cardíacas. Encontre maneiras saudáveis de lidar com o estresse, como praticar ioga, meditação, passar tempo na natureza ou dedicar-se a hobbies relaxantes.\n> 4.  **Monitore sua pressão arterial regularmente:** Mesmo que seus níveis estejam normais, é importante monitorar sua pressão arterial regularmente para detectar quaisquer alterações precocemente. Você pode fazer isso em casa com um monitor de pressão arterial ou em consultas médicas de rotina.\n> 5.  **Durma bem:** Uma boa noite de sono é essencial para a saúde cardiovascular. Tente dormir de 7 a 8 horas por noite para permitir que seu corpo e coração se recuperem e funcionem de forma otimizada.\n> \n> Continue com este estilo de vida saudável e, se tiver alguma dúvida ou preocupação, não hesite em me perguntar. Parabéns pelos seus ótimos resultados!\n> \n> Para verificar informações adicionais e garantir que as dicas são atuais, realizei algumas pesquisas no Google:\n> \n> \n> Com certeza! Para complementar as dicas que já te passei, e com base nas pesquisas que realizei, aqui estão algumas informações adicionais importantes para a sua saúde cardiovascular:\n> \n> *   **Limite o consumo de sal:** O excesso de sal pode aumentar a pressão arterial. Tente usar ervas frescas e especiarias para temperar seus alimentos.\n> *   **Não fume:** O cigarro enrijece as artérias e prejudica o fluxo sanguíneo. Se você fuma, considere parar.\n> *   **Reduza o consumo de álcool e cafeína:** Essas substâncias podem aumentar a pressão arterial e a frequência cardíaca.\n> *   **Controle o peso:** O excesso de peso pode levar a distúrbios de respiração durante o sono, o que também aumenta a pressão arterial.\n> *   **Visite o médico regularmente:** Consultas periódicas ajudam a detectar precocemente qualquer aumento da pressão arterial.\n> \n> Além disso, para o café da manhã, você pode incluir alimentos ricos em potássio, como banana, que ajudam a equilibrar os níveis de sódio no corpo. Aveia também é uma ótima opção, pois é rica em fibras e ajuda a reduzir os níveis de colesterol e a pressão arterial.\n"
          },
          "metadata": {}
        },
        {
          "output_type": "stream",
          "name": "stdout",
          "text": [
            "--------------------------------------------------------------\n",
            "Começaremos as pesquisas sobre o resultado da aferição 6:\n",
            "Sexo: Feminino, Idade: 43, Peso: 96, Situação: gestante, Sistólica: 119, Diastólica: 75, Frequência Cardíaca: 75 bpm. Data: 26/04/2021, Hora: 21:10, Classificação: Hipertensão Grau 1.\n",
            "\n",
            "--- Resultado da aferição 6 pelo Agente Pesquisador ---\n",
            "\n"
          ]
        },
        {
          "output_type": "display_data",
          "data": {
            "text/plain": [
              "<IPython.core.display.Markdown object>"
            ],
            "text/markdown": "> Olá! Que alegria te atender hoje! Parabéns pela gravidez! É um momento lindo e especial na vida de uma mulher. Vamos conversar um pouco sobre suas medidas e como podemos cuidar da sua saúde e do seu bebê.\n> \n> Primeiro, vamos analisar suas medidas do dia 26/04/2021 às 21:10:\n> \n> *   **Sistólica:** 119 mmHg (milímetros de mercúrio)\n> *   **Diastólica:** 75 mmHg\n> *   **Frequência Cardíaca:** 75 bpm (batimentos por minuto)\n> \n> Naquela ocasião, foi classificado como Hipertensão Grau 1. No entanto, como se trata de uma medição de 2021 e você está grávida, é fundamental que você tenha um acompanhamento médico regular para monitorar sua pressão arterial e frequência cardíaca. A gravidez pode influenciar esses valores, e é importante garantir que tudo esteja dentro dos parâmetros seguros para você e o bebê.\n> \n> **Dicas importantes para cuidar da sua pressão arterial e frequência cardíaca durante a gravidez:**\n> \n> Para garantir que sua pressão arterial e frequência cardíaca permaneçam saudáveis durante a gravidez, aqui estão algumas dicas importantes e atualizadas:\n> \n> 1.  **Acompanhamento médico regular:** Essa é a dica mais importante! Consulte seu médico regularmente para que ele possa monitorar sua pressão arterial, ajustar a medicação, se necessário, e garantir que você e o bebê estejam bem.\n> 2.  **Alimentação saudável:** Uma dieta rica em frutas, verduras, legumes e grãos integrais pode ajudar a controlar a pressão arterial. Evite alimentos processados, ricos em sódio e gorduras saturadas.\n> 3.  **Exercícios físicos:** Consulte seu médico sobre quais exercícios são seguros para você durante a gravidez. Caminhadas leves, natação e yoga são ótimas opções para manter a forma e controlar a pressão arterial.\n> 4.  **Gerenciamento do estresse:** O estresse pode elevar a pressão arterial. Encontre maneiras de relaxar e reduzir o estresse, como meditação, yoga ou atividades que você goste.\n> 5.  **Monitoramento em casa:** Meça sua pressão arterial regularmente em casa e anote os resultados para mostrar ao seu médico. Isso pode ajudar a identificar padrões e ajustar o tratamento, se necessário.\n> \n> **Sugestão de Refeição:**\n> \n> Considerando que suas medidas foram feitas às 21:10, sugiro um lanche leve e nutritivo para a ceia. Que tal um iogurte natural com frutas vermelhas e granola? É uma opção saborosa, rica em nutrientes e que não vai pesar no estômago antes de dormir.\n> \n> Lembre-se, estou aqui para te apoiar e te dar informações úteis. Mas não deixe de seguir as orientações do seu médico, combinado? Ele é a pessoa mais indicada para cuidar da sua saúde e do seu bebê.\n> \n> Para te ajudar ainda mais, vou procurar algumas informações adicionais sobre pressão alta na gravidez.\n> \n> \n> Com certeza! Vamos continuar te apoiando com algumas informações adicionais e dicas práticas para uma gravidez saudável e tranquila:\n> \n> **Informações Adicionais:**\n> \n> *   **Hipertensão Gestacional:** É importante saber que a hipertensão gestacional é uma condição que se desenvolve após a 20ª semana de gravidez e, geralmente, desaparece após o parto. No entanto, é fundamental monitorar de perto, pois pode evoluir para quadros mais graves, como a pré-eclâmpsia.\n> *   **Pré-eclâmpsia:** É uma complicação da gravidez caracterizada por pressão alta e presença de proteína na urina. Se não tratada, pode levar à eclâmpsia, que causa convulsões e coloca em risco a vida da mãe e do bebê.\n> *   **Importância do Acompanhamento Médico:** O acompanhamento médico regular é essencial para identificar precocemente qualquer alteração na pressão arterial e garantir o tratamento adequado.\n> \n> **Dicas Práticas:**\n> \n> 1.  **Alimentação Balanceada:**\n>     *   Consuma uma grande variedade de alimentos *in natura* e minimamente processados, como frutas, verduras, legumes e grãos integrais.\n>     *   Evite alimentos ultraprocessados, ricos em sódio, gorduras saturadas e açúcares.\n>     *   Aumente o consumo de proteínas, cálcio e ácido fólico, que são importantes para o desenvolvimento do bebê e a saúde da mãe.\n>     *   Reduza o consumo de sal, café e bebidas alcoólicas.\n> 2.  **Atividade Física Regular:**\n>     *   Consulte seu médico para saber quais exercícios são seguros para você durante a gravidez.\n>     *   Caminhadas leves, natação, hidroginástica e yoga são ótimas opções para manter a forma, controlar a pressão arterial e reduzir o estresse.\n>     *   Evite exercícios de alto impacto ou que envolvam risco de queda.\n> 3.  **Controle do Estresse:**\n>     *   Encontre maneiras de relaxar e reduzir o estresse, como meditação, yoga, massagem ou atividades que você goste.\n>     *   Durma bem e reserve um tempo para você todos os dias.\n> 4.  **Monitoramento da Pressão Arterial:**\n>     *   Meça sua pressão arterial regularmente em casa e anote os resultados para mostrar ao seu médico.\n>     *   Esteja atenta a sintomas como dor de cabeça, visão turva, inchaço nas mãos e nos pés, e procure atendimento médico se notar algo incomum.\n> 5.  **Suplementação:**\n>     *   Siga as orientações do seu médico sobre a suplementação de vitaminas e minerais, como ácido fólico, ferro, cálcio e vitamina D.\n> \n> Lembre-se, cada gravidez é única, e é fundamental seguir as orientações do seu médico para garantir uma gestação saudável e um parto seguro. Estou aqui para te apoiar em cada passo do caminho! Se tiver mais alguma dúvida, é só perguntar!\n> \n"
          },
          "metadata": {}
        },
        {
          "output_type": "stream",
          "name": "stdout",
          "text": [
            "--------------------------------------------------------------\n"
          ]
        }
      ]
    },
    {
      "cell_type": "code",
      "source": [
        "# @title Célula 11 : Instala as bibliotecas Python necessárias para usar as APIs do Google e autenticação.\n",
        "!pip install google-api-python-client google-auth-httplib2 google-auth-oauthlib\n",
        "\n",
        "# --- Importação das Classes e Funções Necessárias ---\n",
        "\n",
        "# Módulo padrão para trabalhar com datas.\n",
        "import datetime\n",
        "# Função específica do Colab para autenticar o usuário Google.\n",
        "from google.colab.auth import authenticate_user\n",
        "# Função para construir o objeto de serviço da API (Calendar v3).\n",
        "from googleapiclient.discovery import build\n",
        "# Classe para tratar erros de resposta da API (como 403 Forbidden).\n",
        "from googleapiclient.errors import HttpError\n",
        "\n",
        "# --- Resto do código da função criar_evento_agenda ---\n",
        "# ... (sua função vem aqui)"
      ],
      "metadata": {
        "id": "LF5eDgKTRN1d"
      },
      "execution_count": null,
      "outputs": []
    },
    {
      "cell_type": "code",
      "source": [
        "# @title Célula 12 : Armazenando um evento no Google Agenda\n",
        "# Instale as bibliotecas necessárias na Célula 11\n",
        "\n",
        "def criar_evento_agenda(titulo, descricao):\n",
        "    \"\"\"\n",
        "    Cria um evento de dia inteiro no Google Agenda na data atual.\n",
        "\n",
        "    Args:\n",
        "        titulo (str): O título do evento.\n",
        "        descricao (str): A descrição do evento.\n",
        "    \"\"\"\n",
        "    try:\n",
        "        # --- Passo 1: Autenticação ---\n",
        "        # Autentica o usuário. Uma nova aba ou popup do navegador será aberta\n",
        "        # para você fazer login na sua conta Google e autorizar o Colab\n",
        "        # a acessar seu Google Agenda.\n",
        "        print(\"Por favor, siga as instruções na nova aba/popup para autenticar e autorizar o acesso ao Google Agenda.\")\n",
        "        #authenticate_user()\n",
        "        authenticate_user(scopes=['https://www.googleapis.com/auth/calendar'])\n",
        "        print(\"Autenticação concluída com sucesso.\")\n",
        "\n",
        "        # --- Passo 2: Construir o Serviço da API ---\n",
        "        # Usa as credenciais obtidas para construir o objeto de serviço do Google Calendar.\n",
        "        # 'calendar', 'v3' especifica a API e a versão que queremos usar.\n",
        "        print(\"Conectando ao serviço Google Calendar API...\")\n",
        "        # Após a autenticação com authenticate_user, as credenciais são automaticamente\n",
        "        # gerenciadas pela biblioteca google-auth, então não precisamos passá-las explicitamente\n",
        "        # para build() neste contexto do Colab.\n",
        "        service = build('calendar', 'v3')\n",
        "        print(\"Serviço do Google Calendar conectado.\")\n",
        "\n",
        "        # --- Passo 3: Definir Detalhes do Evento ---\n",
        "        # Obtém a data atual.\n",
        "        today = datetime.date.today().isoformat() # Formato 'YYYY-MM-DD' necessário para eventos de dia inteiro\n",
        "\n",
        "        # Cria o corpo do evento no formato esperado pela API.\n",
        "        event = {\n",
        "            'summary': titulo, # Título do evento\n",
        "            'description': descricao, # Descrição do evento\n",
        "            'start': {\n",
        "                'date': today, # Data de início (evento de dia inteiro)\n",
        "            },\n",
        "            'end': {\n",
        "                'date': today, # Data de término (evento de dia inteiro)\n",
        "                # Para eventos de dia inteiro, o 'end date' é o dia do término.\n",
        "                # A API do Google Calendar trata isso como o dia inteiro especificado.\n",
        "            },\n",
        "            # 'timeZone': 'America/Sao_Paulo', # Opcional: Especifique o fuso horário se necessário.\n",
        "                                               # Para eventos de dia inteiro, o fuso horário é menos crítico,\n",
        "                                               # mas pode ser relevante para a interpretação da data.\n",
        "        }\n",
        "\n",
        "        # --- Passo 4: Criar o Evento ---\n",
        "        # Chama o método insert da API para adicionar o evento ao calendário.\n",
        "        # calendarId='primary' refere-se ao calendário principal do usuário autenticado.\n",
        "        print(f\"\\nCriando evento '{titulo}' para a data: {today}...\")\n",
        "        created_event = service.events().insert(calendarId='primary', body=event).execute()\n",
        "\n",
        "        # --- Passo 5: Confirmar e Exibir Resultado ---\n",
        "        print('\\n--- Evento Criado Com Sucesso ---')\n",
        "        print(f\"Título: {created_event.get('summary')}\")\n",
        "        print(f\"Descrição: {created_event.get('description')}\")\n",
        "        print(f\"Data: {today}\")\n",
        "        print(f\"Link para o evento no Google Agenda: {created_event.get('htmlLink')}\")\n",
        "        print('-------------------------------')\n",
        "\n",
        "    except HttpError as error:\n",
        "        # Captura e exibe erros específicos da API do Google.\n",
        "        print(f'Ocorreu um erro na API do Google Calendar: {error}')\n",
        "    except Exception as e:\n",
        "        # Captura outros erros que possam ocorrer.\n",
        "        print(f'Ocorreu um erro inesperado: {e}')\n",
        "\n",
        "# --- Como usar a função ---\n",
        "\n",
        "# Você pode pedir ao usuário para inserir o título e a descrição:\n",
        "print(\"Vamos criar um evento no seu Google Agenda para hoje.\")\n",
        "titulo_evento = input(\"Digite o título do evento: \")\n",
        "descricao_evento = input(\"Digite a descrição do evento: \")\n",
        "\n",
        "# Chama a função para criar o evento\n",
        "criar_evento_agenda(titulo_evento, descricao_evento)\n",
        "\n",
        "# Ou você pode definir o título e a descrição diretamente no código:\n",
        "# titulo_evento = \"Lembrete Importante do Colab\"\n",
        "# descricao_evento = \"Tarefa gerada automaticamente via script Python no Google Colab.\"\n",
        "# criar_evento_agenda(titulo_evento, descricao_evento)"
      ],
      "metadata": {
        "colab": {
          "base_uri": "https://localhost:8080/"
        },
        "id": "oXgrc32NNv_q",
        "outputId": "dbbe46bc-2dd9-49c7-959a-297f802198e9"
      },
      "execution_count": null,
      "outputs": [
        {
          "output_type": "stream",
          "name": "stdout",
          "text": [
            "Vamos criar um evento no seu Google Agenda para hoje.\n",
            "Digite o título do evento: teste\n",
            "Digite a descrição do evento: teste\n",
            "Por favor, siga as instruções na nova aba/popup para autenticar e autorizar o acesso ao Google Agenda.\n",
            "Ocorreu um erro inesperado: authenticate_user() got an unexpected keyword argument 'scopes'\n"
          ]
        }
      ]
    },
    {
      "cell_type": "code",
      "source": [
        "# @title Listar diretório\n",
        "import os\n",
        "\n",
        "# Especifica o diretório onde os arquivos uploaded são geralmente armazenados\n",
        "diretorio_upload = \"/content/\"\n",
        "\n",
        "# Lista todos os arquivos e diretórios no diretório especificado\n",
        "arquivos_e_diretorios = os.listdir(diretorio_upload)\n",
        "\n",
        "# Filtra apenas os arquivos (para não listar subdiretórios, se houver)\n",
        "arquivos_subidos = [f for f in arquivos_e_diretorios if os.path.isfile(os.path.join(diretorio_upload, f))]\n",
        "\n",
        "if arquivos_subidos:\n",
        "    print(\"Arquivos subidos para o Colab:\")\n",
        "    for arquivo in arquivos_subidos:\n",
        "        print(f\"- {arquivo}\")\n",
        "else:\n",
        "    print(\"Nenhum arquivo foi subido para o Colab ainda.\")"
      ],
      "metadata": {
        "id": "wGKPmuCk-dih",
        "colab": {
          "base_uri": "https://localhost:8080/"
        },
        "outputId": "126d0779-b54e-4e02-c93e-d3b2ecf48d49"
      },
      "execution_count": null,
      "outputs": [
        {
          "output_type": "stream",
          "name": "stdout",
          "text": [
            "Arquivos subidos para o Colab:\n",
            "- WhatsApp Image 2025-05-17 at 12.52.46 (1) (1).jpeg\n",
            "- WhatsApp Image 2025-05-17 at 12.52.45 (5).jpeg\n",
            "- WhatsApp Image 2025-05-17 at 12.52.49.jpeg\n",
            "- 15050858 (1).jpeg\n",
            "- WhatsApp Image 2025-05-17 at 12.52.45 (4).jpeg\n",
            "- WhatsApp Image 2025-05-17 at 12.52.46 (2) (3).jpeg\n",
            "- WhatsApp Image 2025-05-17 at 12.52.45 (3) (2).jpeg\n",
            "- WhatsApp Image 2025-05-17 at 12.52.45 (1) (2).jpeg\n",
            "- WhatsApp Image 2025-05-17 at 12.52.45 (1) (1).jpeg\n",
            "- WhatsApp Image 2025-05-17 at 12.52.47 (1).jpeg\n",
            "- WhatsApp Image 2025-05-17 at 12.52.46 (2).jpeg\n",
            "- WhatsApp Image 2025-05-17 at 12.52.49 (1).jpeg\n",
            "- 15050858.jpeg\n",
            "- WhatsApp Image 2025-05-17 at 12.52.45 (1).jpeg\n",
            "- WhatsApp Image 2025-05-17 at 12.52.48 (1).jpeg\n",
            "- WhatsApp Image 2025-05-17 at 12.52.45 (2) (1).jpeg\n",
            "- WhatsApp Image 2025-05-17 at 12.52.49 (2).jpeg\n",
            "- WhatsApp Image 2025-05-17 at 12.52.45 (2).jpeg\n",
            "- WhatsApp Image 2025-05-17 at 12.52.47.jpeg\n",
            "- WhatsApp Image 2025-05-17 at 12.52.46 (1).jpeg\n",
            "- WhatsApp Image 2025-05-17 at 12.52.47 (1) (1).jpeg\n",
            "- WhatsApp Image 2025-05-17 at 12.52.45 (3) (1).jpeg\n",
            "- WhatsApp Image 2025-05-17 at 12.52.46 (2) (1).jpeg\n",
            "- WhatsApp Image 2025-05-17 at 12.52.46 (1) (2).jpeg\n",
            "- WhatsApp Image 2025-05-17 at 12.52.49 (2) (1).jpeg\n",
            "- WhatsApp Image 2025-05-17 at 12.52.46.jpeg\n",
            "- 15050858 (2).jpeg\n",
            "- WhatsApp Image 2025-05-17 at 12.52.47 (2).jpeg\n",
            "- WhatsApp Image 2025-05-17 at 12.52.45.jpeg\n",
            "- WhatsApp Image 2025-05-17 at 12.52.46 (3).jpeg\n",
            "- WhatsApp Image 2025-05-17 at 12.52.47 (3) (1).jpeg\n",
            "- WhatsApp Image 2025-05-17 at 12.52.46 (2) (2).jpeg\n",
            "- WhatsApp Image 2025-05-17 at 12.52.48.jpeg\n",
            "- WhatsApp Image 2025-05-17 at 12.52.45 (3).jpeg\n",
            "- WhatsApp Image 2025-05-17 at 12.52.47 (3).jpeg\n"
          ]
        }
      ]
    },
    {
      "cell_type": "code",
      "source": [
        "# @title Limpar diretório\n",
        "\n",
        "import os\n",
        "import glob\n",
        "\n",
        "# Especifica o padrão dos arquivos que você quer apagar (ex: todos os arquivos .jpg)\n",
        "padrao = \"/content/*.jpeg\"\n",
        "\n",
        "# Obtém a lista de todos os arquivos que correspondem ao padrão\n",
        "arquivos_para_apagar = glob.glob(padrao)\n",
        "\n",
        "if arquivos_para_apagar:\n",
        "    print(\"Arquivos encontrados para apagar:\")\n",
        "    for arquivo in arquivos_para_apagar:\n",
        "        print(f\"- {arquivo}\")\n",
        "        try:\n",
        "            os.remove(arquivo)\n",
        "            print(f\"  Apagado com sucesso.\")\n",
        "        except Exception as e:\n",
        "            print(f\"  Erro ao apagar: {e}\")\n",
        "else:\n",
        "    print(f\"Nenhum arquivo corresponde ao padrão '{padrao}'.\")"
      ],
      "metadata": {
        "colab": {
          "base_uri": "https://localhost:8080/"
        },
        "id": "bCbRPWGo-4N5",
        "outputId": "53bcec22-de8e-4f75-9de2-4ee6121df993"
      },
      "execution_count": null,
      "outputs": [
        {
          "output_type": "stream",
          "name": "stdout",
          "text": [
            "Arquivos encontrados para apagar:\n",
            "- /content/WhatsApp Image 2025-05-17 at 12.52.46 (1) (1).jpeg\n",
            "  Apagado com sucesso.\n",
            "- /content/WhatsApp Image 2025-05-17 at 12.52.45 (5).jpeg\n",
            "  Apagado com sucesso.\n",
            "- /content/WhatsApp Image 2025-05-17 at 12.52.49.jpeg\n",
            "  Apagado com sucesso.\n",
            "- /content/15050858 (1).jpeg\n",
            "  Apagado com sucesso.\n",
            "- /content/WhatsApp Image 2025-05-17 at 12.52.45 (4).jpeg\n",
            "  Apagado com sucesso.\n",
            "- /content/WhatsApp Image 2025-05-17 at 12.52.46 (2) (3).jpeg\n",
            "  Apagado com sucesso.\n",
            "- /content/WhatsApp Image 2025-05-17 at 12.52.45 (3) (2).jpeg\n",
            "  Apagado com sucesso.\n",
            "- /content/WhatsApp Image 2025-05-17 at 12.52.45 (1) (2).jpeg\n",
            "  Apagado com sucesso.\n",
            "- /content/WhatsApp Image 2025-05-17 at 12.52.45 (1) (1).jpeg\n",
            "  Apagado com sucesso.\n",
            "- /content/WhatsApp Image 2025-05-17 at 12.52.47 (1).jpeg\n",
            "  Apagado com sucesso.\n",
            "- /content/WhatsApp Image 2025-05-17 at 12.52.46 (2).jpeg\n",
            "  Apagado com sucesso.\n",
            "- /content/WhatsApp Image 2025-05-17 at 12.52.49 (1).jpeg\n",
            "  Apagado com sucesso.\n",
            "- /content/15050858.jpeg\n",
            "  Apagado com sucesso.\n",
            "- /content/WhatsApp Image 2025-05-17 at 12.52.45 (1).jpeg\n",
            "  Apagado com sucesso.\n",
            "- /content/WhatsApp Image 2025-05-17 at 12.52.48 (1).jpeg\n",
            "  Apagado com sucesso.\n",
            "- /content/WhatsApp Image 2025-05-17 at 12.52.45 (2) (1).jpeg\n",
            "  Apagado com sucesso.\n",
            "- /content/WhatsApp Image 2025-05-17 at 12.52.49 (2).jpeg\n",
            "  Apagado com sucesso.\n",
            "- /content/WhatsApp Image 2025-05-17 at 12.52.45 (2).jpeg\n",
            "  Apagado com sucesso.\n",
            "- /content/WhatsApp Image 2025-05-17 at 12.52.47.jpeg\n",
            "  Apagado com sucesso.\n",
            "- /content/WhatsApp Image 2025-05-17 at 12.52.46 (1).jpeg\n",
            "  Apagado com sucesso.\n",
            "- /content/WhatsApp Image 2025-05-17 at 12.52.47 (1) (1).jpeg\n",
            "  Apagado com sucesso.\n",
            "- /content/WhatsApp Image 2025-05-17 at 12.52.45 (3) (1).jpeg\n",
            "  Apagado com sucesso.\n",
            "- /content/WhatsApp Image 2025-05-17 at 12.52.46 (2) (1).jpeg\n",
            "  Apagado com sucesso.\n",
            "- /content/WhatsApp Image 2025-05-17 at 12.52.46 (1) (2).jpeg\n",
            "  Apagado com sucesso.\n",
            "- /content/WhatsApp Image 2025-05-17 at 12.52.49 (2) (1).jpeg\n",
            "  Apagado com sucesso.\n",
            "- /content/WhatsApp Image 2025-05-17 at 12.52.46.jpeg\n",
            "  Apagado com sucesso.\n",
            "- /content/15050858 (2).jpeg\n",
            "  Apagado com sucesso.\n",
            "- /content/WhatsApp Image 2025-05-17 at 12.52.47 (2).jpeg\n",
            "  Apagado com sucesso.\n",
            "- /content/WhatsApp Image 2025-05-17 at 12.52.45.jpeg\n",
            "  Apagado com sucesso.\n",
            "- /content/WhatsApp Image 2025-05-17 at 12.52.46 (3).jpeg\n",
            "  Apagado com sucesso.\n",
            "- /content/WhatsApp Image 2025-05-17 at 12.52.47 (3) (1).jpeg\n",
            "  Apagado com sucesso.\n",
            "- /content/WhatsApp Image 2025-05-17 at 12.52.46 (2) (2).jpeg\n",
            "  Apagado com sucesso.\n",
            "- /content/WhatsApp Image 2025-05-17 at 12.52.48.jpeg\n",
            "  Apagado com sucesso.\n",
            "- /content/WhatsApp Image 2025-05-17 at 12.52.45 (3).jpeg\n",
            "  Apagado com sucesso.\n",
            "- /content/WhatsApp Image 2025-05-17 at 12.52.47 (3).jpeg\n",
            "  Apagado com sucesso.\n"
          ]
        }
      ]
    }
  ]
}